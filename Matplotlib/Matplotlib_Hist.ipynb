{
  "nbformat": 4,
  "nbformat_minor": 0,
  "metadata": {
    "colab": {
      "name": "Hist.ipynb",
      "provenance": [],
      "authorship_tag": "ABX9TyNoHyLjksOiQAJh4BxMy8Le",
      "include_colab_link": true
    },
    "kernelspec": {
      "name": "python3",
      "display_name": "Python 3"
    }
  },
  "cells": [
    {
      "cell_type": "markdown",
      "metadata": {
        "id": "view-in-github",
        "colab_type": "text"
      },
      "source": [
        "<a href=\"https://colab.research.google.com/github/Mrsth/Data-Visualization/blob/main/Matplotlib_Hist.ipynb\" target=\"_parent\"><img src=\"https://colab.research.google.com/assets/colab-badge.svg\" alt=\"Open In Colab\"/></a>"
      ]
    },
    {
      "cell_type": "code",
      "metadata": {
        "id": "uJ1hXxmw90y3"
      },
      "source": [
        "import matplotlib.pyplot as plt \n",
        "import numpy as np\n",
        "from numpy import random"
      ],
      "execution_count": 3,
      "outputs": []
    },
    {
      "cell_type": "code",
      "metadata": {
        "id": "gs9b58pfPTyk",
        "outputId": "9d111cd6-c3cc-4793-e76b-41b9dbac225e",
        "colab": {
          "base_uri": "https://localhost:8080/",
          "height": 33
        }
      },
      "source": [
        "x1 = random.randint(40,50,10)\n",
        "x1"
      ],
      "execution_count": 4,
      "outputs": [
        {
          "output_type": "execute_result",
          "data": {
            "text/plain": [
              "array([48, 42, 49, 43, 49, 44, 49, 42, 43, 40])"
            ]
          },
          "metadata": {
            "tags": []
          },
          "execution_count": 4
        }
      ]
    },
    {
      "cell_type": "code",
      "metadata": {
        "id": "vOVFrlV_PaOS",
        "outputId": "bda90720-9405-4751-bf96-96a81afeea17",
        "colab": {
          "base_uri": "https://localhost:8080/",
          "height": 388
        }
      },
      "source": [
        "plt.figure(figsize=(10,5))\n",
        "plt.hist(x1,edgecolor=\"black\",bins=5, rwidth=.95)\n",
        "plt.title(\"Histogram\", fontdict={'fontsize': 30})\n",
        "plt.xlabel(\"X axis\", fontdict={'fontsize':20})\n",
        "plt.ylabel(\"Y axis\", fontdict={'fontsize':20})"
      ],
      "execution_count": 7,
      "outputs": [
        {
          "output_type": "execute_result",
          "data": {
            "text/plain": [
              "Text(0, 0.5, 'Y axis')"
            ]
          },
          "metadata": {
            "tags": []
          },
          "execution_count": 7
        },
        {
          "output_type": "display_data",
          "data": {
            "image/png": "[encoded data removed]",
            "text/plain": [
              "<Figure size 720x360 with 1 Axes>"
            ]
          },
          "metadata": {
            "tags": [],
            "needs_background": "light"
          }
        }
      ]
    },
    {
      "cell_type": "code",
      "metadata": {
        "id": "PmXTjpAgPiaJ",
        "outputId": "1de73293-6912-42a2-e6e5-38285f7586d1",
        "colab": {
          "base_uri": "https://localhost:8080/",
          "height": 283
        }
      },
      "source": [
        "x2 = random.randint(100,200,200)\n",
        "x2"
      ],
      "execution_count": 13,
      "outputs": [
        {
          "output_type": "execute_result",
          "data": {
            "text/plain": [
              "array([177, 134, 141, 174, 145, 194, 145, 137, 116, 173, 177, 188, 167,\n",
              "       136, 116, 181, 148, 157, 184, 187, 196, 156, 178, 126, 185, 136,\n",
              "       124, 119, 160, 102, 192, 161, 141, 100, 154, 145, 100, 157, 125,\n",
              "       151, 156, 185, 150, 165, 170, 177, 188, 194, 177, 155, 114, 167,\n",
              "       152, 172, 181, 144, 139, 169, 128, 137, 103, 112, 169, 112, 104,\n",
              "       169, 131, 156, 163, 152, 114, 102, 177, 105, 133, 193, 127, 188,\n",
              "       178, 101, 121, 167, 157, 127, 127, 129, 192, 138, 141, 186, 190,\n",
              "       104, 131, 179, 186, 125, 160, 136, 125, 140, 180, 145, 148, 181,\n",
              "       113, 181, 100, 146, 107, 196, 143, 124, 110, 193, 122, 176, 168,\n",
              "       170, 195, 145, 110, 167, 160, 193, 122, 179, 182, 166, 199, 190,\n",
              "       188, 140, 112, 146, 122, 110, 168, 125, 105, 115, 164, 109, 186,\n",
              "       199, 146, 177, 162, 126, 195, 138, 185, 109, 185, 118, 168, 197,\n",
              "       150, 137, 194, 197, 173, 121, 122, 157, 120, 157, 103, 156, 156,\n",
              "       101, 189, 170, 152, 122, 115, 133, 182, 142, 190, 190, 161, 128,\n",
              "       178, 123, 185, 192, 175, 102, 108, 144, 100, 151, 122, 184, 173,\n",
              "       198, 127, 177, 117, 142])"
            ]
          },
          "metadata": {
            "tags": []
          },
          "execution_count": 13
        }
      ]
    },
    {
      "cell_type": "code",
      "metadata": {
        "id": "K7PbOoSG8RGR",
        "outputId": "df27b42a-95c5-4d6c-9f6d-1ae766c9ba08",
        "colab": {
          "base_uri": "https://localhost:8080/",
          "height": 388
        }
      },
      "source": [
        "plt.figure(figsize=(10,5))\n",
        "plt.hist([x1,x2],edgecolor=\"black\", rwidth=.95)\n",
        "plt.title(\"Second Histogram\", fontdict={'fontsize': 30})\n",
        "plt.xlabel(\"X axis\", fontdict={'fontsize':20})\n",
        "plt.ylabel(\"Y axis\", fontdict={'fontsize':20})"
      ],
      "execution_count": 17,
      "outputs": [
        {
          "output_type": "execute_result",
          "data": {
            "text/plain": [
              "Text(0, 0.5, 'Y axis')"
            ]
          },
          "metadata": {
            "tags": []
          },
          "execution_count": 17
        },
        {
          "output_type": "display_data",
          "data": {
            "image/png": "[encoded data removed]",
            "text/plain": [
              "<Figure size 720x360 with 1 Axes>"
            ]
          },
          "metadata": {
            "tags": [],
            "needs_background": "light"
          }
        }
      ]
    },
    {
      "cell_type": "code",
      "metadata": {
        "id": "IQli9XgJ8ati"
      },
      "source": [
        ""
      ],
      "execution_count": null,
      "outputs": []
    }
  ]
}
